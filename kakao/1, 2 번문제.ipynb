{
 "cells": [
  {
   "cell_type": "code",
   "execution_count": 1,
   "metadata": {},
   "outputs": [],
   "source": [
    "#1번 문제 \n",
    "def solution(record):\n",
    "    answer = []\n",
    "    users = {}\n",
    "    record_users = []\n",
    "    record_messages = []\n",
    "    \n",
    "    for r in record:\n",
    "        rLists = r.split(\" \")\n",
    "        if rLists[0] == 'Enter':\n",
    "            users[rLists[1]] = rLists[2]\n",
    "            record_users.append(rLists[1])\n",
    "            record_messages.append('님이 들어왔습니다.')\n",
    "        elif rLists[0] == 'Leave':\n",
    "            record_users.append(rLists[1])\n",
    "            record_messages.append('님이 나갔습니다.')\n",
    "        elif rLists[0] == 'Change':\n",
    "            users[rLists[1]] = rLists[2]\n",
    "    \n",
    "    index = 0\n",
    "    for ru in record_users:\n",
    "        answer.append(users[ru] + record_messages[index])\n",
    "        index += 1\n",
    "    \n",
    "    return answer"
   ]
  },
  {
   "cell_type": "code",
   "execution_count": 2,
   "metadata": {},
   "outputs": [],
   "source": [
    "#2번 문제 \n",
    "import operator \n",
    "\n",
    "def solution(N, stages):\n",
    "    answer = []\n",
    "    answers = {}\n",
    "    ratio_answers = {}\n",
    "    \n",
    "    for s in stages:\n",
    "        try: \n",
    "            answers[s] += 1\n",
    "        except: \n",
    "            answers[s] = 1     \n",
    "            \n",
    "    y = len(stages)\n",
    "    for i in range(1, N+1):\n",
    "        try:\n",
    "            ratio_answers[i] = answers[i] / y\n",
    "            y = y - answers[i]\n",
    "        except:\n",
    "            ratio_answers[i] = 0\n",
    "        \n",
    "    sorted_Array = sorted(ratio_answers.items(), \n",
    "                       key=operator.itemgetter(1), reverse=True)\n",
    "    \n",
    "    for s in sorted_Array:\n",
    "        answer.append(s[0])\n",
    "    \n",
    "    return answer\n"
   ]
  },
  {
   "cell_type": "code",
   "execution_count": null,
   "metadata": {},
   "outputs": [],
   "source": []
  }
 ],
 "metadata": {
  "kernelspec": {
   "display_name": "Python 3",
   "language": "python",
   "name": "python3"
  },
  "language_info": {
   "codemirror_mode": {
    "name": "ipython",
    "version": 3
   },
   "file_extension": ".py",
   "mimetype": "text/x-python",
   "name": "python",
   "nbconvert_exporter": "python",
   "pygments_lexer": "ipython3",
   "version": "3.6.4"
  }
 },
 "nbformat": 4,
 "nbformat_minor": 2
}
